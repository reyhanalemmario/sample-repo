{
  "nbformat": 4,
  "nbformat_minor": 0,
  "metadata": {
    "colab": {
      "name": "dicoding_submission.ipynb",
      "provenance": [],
      "collapsed_sections": []
    },
    "kernelspec": {
      "name": "python3",
      "display_name": "Python 3"
    }
  },
  "cells": [
    {
      "cell_type": "markdown",
      "metadata": {
        "id": "9n47gLIuKNME",
        "colab_type": "text"
      },
      "source": [
        "# Klasifikasi Gambar Gunting, Batu, Kertas dengan Tensorflow\n",
        "\n",
        "Dalam notebook ini kita akan mengklasifikasi gambar dengan computer vision pada API keras dengan Tensorflow versi 2.x. Gambar akan didownload menggunakan link yang disediakan kemudian akan dibagi menjadi set train dan set validation pada folder yang berbeda. Kemudian menggunakan ImageGenerator, akan diterapkan Augmentasi gambar dan terakhir hasil model dapat diuji coba dengan mengupload gambar pada notebook ini. Terdapat 726 gambar batu, 750 gambar gunting, dan 710 gambar kertas.\n",
        "\n",
        "Created by Reyhan Alemmario"
      ]
    },
    {
      "cell_type": "markdown",
      "metadata": {
        "id": "VBJoKts7Xpje",
        "colab_type": "text"
      },
      "source": [
        "## Persiapan Data dan Folder"
      ]
    },
    {
      "cell_type": "code",
      "metadata": {
        "id": "7Q9ugiKfKPSA",
        "colab_type": "code",
        "colab": {
          "base_uri": "https://localhost:8080/",
          "height": 51
        },
        "outputId": "ff188112-36b0-4fbb-ad1d-4060203ff2fe"
      },
      "source": [
        "# Import Library yang akan digunakan\n",
        "import os\n",
        "import zipfile\n",
        "import shutil\n",
        "import tensorflow as tf\n",
        "import numpy as np\n",
        "import matplotlib.pyplot as plt\n",
        "from tensorflow.keras.optimizers import RMSprop\n",
        "from tensorflow.keras.preprocessing.image import ImageDataGenerator\n",
        "from google.colab import files\n",
        "from keras.preprocessing import image\n",
        "\n",
        "# Cek versi dari tensorflow\n",
        "print(tf.__version__)"
      ],
      "execution_count": 1,
      "outputs": [
        {
          "output_type": "stream",
          "text": [
            "2.2.0-rc4\n"
          ],
          "name": "stdout"
        },
        {
          "output_type": "stream",
          "text": [
            "Using TensorFlow backend.\n"
          ],
          "name": "stderr"
        }
      ]
    },
    {
      "cell_type": "code",
      "metadata": {
        "id": "_bRDhYN1YEbq",
        "colab_type": "code",
        "colab": {
          "base_uri": "https://localhost:8080/",
          "height": 204
        },
        "outputId": "cc7f7d6b-d15d-48c4-f546-52322c37e10d"
      },
      "source": [
        "# Download file zip berisikan gambar\n",
        "!wget --no-check-certificate \\\n",
        "  https://dicodingacademy.blob.core.windows.net/picodiploma/ml_pemula_academy/rockpaperscissors.zip \\\n",
        "  -O /tmp/rockpaperscissors.zip"
      ],
      "execution_count": 2,
      "outputs": [
        {
          "output_type": "stream",
          "text": [
            "--2020-05-06 22:42:00--  https://dicodingacademy.blob.core.windows.net/picodiploma/ml_pemula_academy/rockpaperscissors.zip\n",
            "Resolving dicodingacademy.blob.core.windows.net (dicodingacademy.blob.core.windows.net)... 52.239.197.36\n",
            "Connecting to dicodingacademy.blob.core.windows.net (dicodingacademy.blob.core.windows.net)|52.239.197.36|:443... connected.\n",
            "HTTP request sent, awaiting response... 200 OK\n",
            "Length: 322873683 (308M) [application/zip]\n",
            "Saving to: ‘/tmp/rockpaperscissors.zip’\n",
            "\n",
            "/tmp/rockpapersciss 100%[===================>] 307.92M  11.4MB/s    in 36s     \n",
            "\n",
            "2020-05-06 22:42:36 (8.65 MB/s) - ‘/tmp/rockpaperscissors.zip’ saved [322873683/322873683]\n",
            "\n"
          ],
          "name": "stdout"
        }
      ]
    },
    {
      "cell_type": "code",
      "metadata": {
        "id": "OrpW0rorYU_j",
        "colab_type": "code",
        "colab": {}
      },
      "source": [
        "# Ekstrak file Zip\n",
        "local_zip = '/tmp/rockpaperscissors.zip'\n",
        "zip_ref = zipfile.ZipFile(local_zip, 'r')\n",
        "zip_ref.extractall('/tmp')\n",
        "zip_ref.close()"
      ],
      "execution_count": 0,
      "outputs": []
    },
    {
      "cell_type": "code",
      "metadata": {
        "id": "7sYRqyXvb8UQ",
        "colab_type": "code",
        "colab": {
          "base_uri": "https://localhost:8080/",
          "height": 34
        },
        "outputId": "d2a61d3f-00ee-4664-cd0e-1cc90d495f2c"
      },
      "source": [
        "os.listdir('/tmp/rockpaperscissors')"
      ],
      "execution_count": 4,
      "outputs": [
        {
          "output_type": "execute_result",
          "data": {
            "text/plain": [
              "['scissors', 'rps-cv-images', 'paper', 'README_rpc-cv-images.txt', 'rock']"
            ]
          },
          "metadata": {
            "tags": []
          },
          "execution_count": 4
        }
      ]
    },
    {
      "cell_type": "markdown",
      "metadata": {
        "id": "AWgPrmPNagdv",
        "colab_type": "text"
      },
      "source": [
        "Setelah file diekstrak, terdapat 4 folder(paper, rock, scissors, dan rps-cv-images) dan file README. rps-cv-images memiliki folder yang sama dengan 3 folder lainnya. Kita akan membagi jumlah file menjadi 80% untuk train folder dan 20% untuk validation folder."
      ]
    },
    {
      "cell_type": "code",
      "metadata": {
        "id": "G9_txm1xZart",
        "colab_type": "code",
        "colab": {}
      },
      "source": [
        "# Membuat Folder Training dan Validation\n",
        "os.mkdir(os.path.join('/tmp/rockpaperscissors/', 'train/'))\n",
        "os.mkdir(os.path.join('/tmp/rockpaperscissors/', 'validation/'))\n",
        "os.mkdir(os.path.join('/tmp/rockpaperscissors/validation/', 'rock/'))\n",
        "os.mkdir(os.path.join('/tmp/rockpaperscissors/validation/', 'paper/'))\n",
        "os.mkdir(os.path.join('/tmp/rockpaperscissors/validation/', 'scissors/'))"
      ],
      "execution_count": 0,
      "outputs": []
    },
    {
      "cell_type": "code",
      "metadata": {
        "id": "qTg8kEGGbfvN",
        "colab_type": "code",
        "colab": {}
      },
      "source": [
        "# Memindahkan file gambar ke dua folder (gambar masih terduplikat)\n",
        "folder_list = ['paper', 'scissors', 'rock']\n",
        "for folder in folder_list:\n",
        "  shutil.move('/tmp/rockpaperscissors/' + folder, '/tmp/rockpaperscissors/train')\n"
      ],
      "execution_count": 0,
      "outputs": []
    },
    {
      "cell_type": "markdown",
      "metadata": {
        "id": "etaKsVFsm2cV",
        "colab_type": "text"
      },
      "source": [
        "Kita akan memindahkan 20% data dari folder train ke validation folder."
      ]
    },
    {
      "cell_type": "code",
      "metadata": {
        "id": "l_qy8G7anqHi",
        "colab_type": "code",
        "colab": {}
      },
      "source": [
        "for folder in folder_list:\n",
        "  fraction = int(len(os.listdir('/tmp/rockpaperscissors/train/' + folder + '/'))*0.2) #jumlah 20% data yang akan dipindahkan\n",
        "  folder_dir = os.listdir('/tmp/rockpaperscissors/train/' + folder + '/')\n",
        "  chosen_file = folder_dir[:fraction] #memilih 20% pada urutan awal\n",
        "  for file in chosen_file:\n",
        "    shutil.move('/tmp/rockpaperscissors/train/' + folder + '/' + file, '/tmp/rockpaperscissors/validation/'+ folder + '/' + file)"
      ],
      "execution_count": 0,
      "outputs": []
    },
    {
      "cell_type": "markdown",
      "metadata": {
        "id": "HbH119BRsIKA",
        "colab_type": "text"
      },
      "source": [
        "shutil.move memiliki kegunaan seperti cut sehingga kita tidak perlu khawatir ada file yang terduplikat antara folder train dan validation."
      ]
    },
    {
      "cell_type": "code",
      "metadata": {
        "id": "jmQqzc5-f7N9",
        "colab_type": "code",
        "colab": {
          "base_uri": "https://localhost:8080/",
          "height": 85
        },
        "outputId": "8928ad26-0938-4846-c7b8-8fc21e1f9811"
      },
      "source": [
        "# Jumlah file gambar di folder train setelah dipindahkan\n",
        "print('Pada folder train:')\n",
        "print('Gambar gunting: ' + str(len(os.listdir('/tmp/rockpaperscissors/train/scissors/'))))\n",
        "print('Gambar batu: ' + str(len(os.listdir('/tmp/rockpaperscissors/train/rock/'))))\n",
        "print('Gambar kertas: ' + str(len(os.listdir('/tmp/rockpaperscissors/train/paper/'))))"
      ],
      "execution_count": 8,
      "outputs": [
        {
          "output_type": "stream",
          "text": [
            "Pada folder train:\n",
            "Gambar gunting: 600\n",
            "Gambar batu: 581\n",
            "Gambar kertas: 570\n"
          ],
          "name": "stdout"
        }
      ]
    },
    {
      "cell_type": "code",
      "metadata": {
        "id": "cS6YQI0ShsSG",
        "colab_type": "code",
        "colab": {
          "base_uri": "https://localhost:8080/",
          "height": 85
        },
        "outputId": "a0ca24e1-cd24-4ae9-cfd3-4c77be61deb0"
      },
      "source": [
        "# Jumlah file gambar di folder validation setelah menerima gambar yang dipindahkan\n",
        "print('Pada folder validation:')\n",
        "print('Gambar gunting: ' + str(len(os.listdir('/tmp/rockpaperscissors/validation/scissors/'))))\n",
        "print('Gambar batu: ' + str(len(os.listdir('/tmp/rockpaperscissors/validation/rock/'))))\n",
        "print('Gambar kertas: ' + str(len(os.listdir('/tmp/rockpaperscissors/validation/paper/'))))"
      ],
      "execution_count": 11,
      "outputs": [
        {
          "output_type": "stream",
          "text": [
            "Pada folder validation:\n",
            "Gambar gunting: 150\n",
            "Gambar batu: 145\n",
            "Gambar kertas: 142\n"
          ],
          "name": "stdout"
        }
      ]
    },
    {
      "cell_type": "markdown",
      "metadata": {
        "id": "adDGaC5ErVoB",
        "colab_type": "text"
      },
      "source": [
        "Gambar telah terpisahkan pada folder yang sesuai dan siap dilakukan augmentasi gambar."
      ]
    },
    {
      "cell_type": "markdown",
      "metadata": {
        "id": "-Vojie6OsfBu",
        "colab_type": "text"
      },
      "source": [
        "## Augmentasi dari Generator Gambar"
      ]
    },
    {
      "cell_type": "code",
      "metadata": {
        "id": "JvH4rdHyrKvB",
        "colab_type": "code",
        "colab": {
          "base_uri": "https://localhost:8080/",
          "height": 51
        },
        "outputId": "ad9e2a57-d62f-4282-f29e-8235eb133734"
      },
      "source": [
        "folder_train = '/tmp/rockpaperscissors/train/'\n",
        "train_datagen = ImageDataGenerator(\n",
        "      rescale=1./255,\n",
        "      rotation_range=40,\n",
        "      width_shift_range=0.2,\n",
        "      height_shift_range=0.2,\n",
        "      shear_range=0.2,\n",
        "      zoom_range=0.2,\n",
        "      horizontal_flip=True,\n",
        "      fill_mode='nearest')\n",
        "\n",
        "folder_validation = '/tmp/rockpaperscissors/validation/'\n",
        "validation_datagen = ImageDataGenerator(\n",
        "      rescale = 1./255,\n",
        "      rotation_range=40,\n",
        "      width_shift_range=0.2,\n",
        "      height_shift_range=0.2,\n",
        "      shear_range=0.2,\n",
        "      zoom_range=0.2,\n",
        "      horizontal_flip=True,\n",
        "      fill_mode='nearest')\n",
        "\n",
        "train_generator = train_datagen.flow_from_directory(\n",
        "        folder_train, \n",
        "        target_size=(150, 150),  \n",
        "        batch_size=20,\n",
        "        class_mode='categorical')\n",
        "\n",
        "validation_generator = train_datagen.flow_from_directory(\n",
        "        folder_validation, \n",
        "        target_size=(150, 150),  \n",
        "        batch_size=20,\n",
        "        class_mode='categorical')"
      ],
      "execution_count": 12,
      "outputs": [
        {
          "output_type": "stream",
          "text": [
            "Found 1751 images belonging to 3 classes.\n",
            "Found 437 images belonging to 3 classes.\n"
          ],
          "name": "stdout"
        }
      ]
    },
    {
      "cell_type": "markdown",
      "metadata": {
        "id": "RcrkwlxHxXUm",
        "colab_type": "text"
      },
      "source": [
        "kita menggunakan class_mode categorical karena terdapat 3 jenis label."
      ]
    },
    {
      "cell_type": "markdown",
      "metadata": {
        "id": "fJ0osmx2xEDq",
        "colab_type": "text"
      },
      "source": [
        "## Model Sequential"
      ]
    },
    {
      "cell_type": "code",
      "metadata": {
        "id": "80p8cbR2wPaU",
        "colab_type": "code",
        "colab": {
          "base_uri": "https://localhost:8080/",
          "height": 527
        },
        "outputId": "7c31be37-1ae5-4bd0-f535-476fc8a3e4ca"
      },
      "source": [
        "\n",
        "model = tf.keras.models.Sequential([\n",
        "\n",
        "tf.keras.layers.Conv2D(16, (3,3), activation='relu', input_shape=(150, 150, 3)),\n",
        "tf.keras.layers.MaxPooling2D(2, 2),\n",
        "tf.keras.layers.Conv2D(32, (3,3), activation='relu'),\n",
        "tf.keras.layers.MaxPooling2D(2,2),\n",
        "tf.keras.layers.Conv2D(64, (3,3), activation='relu'),\n",
        "tf.keras.layers.MaxPooling2D(2,2),\n",
        "tf.keras.layers.Conv2D(128, (3,3), activation='relu'),\n",
        "tf.keras.layers.MaxPooling2D(2,2),\n",
        "tf.keras.layers.Flatten(),\n",
        "tf.keras.layers.Dense(512, activation='relu'),\n",
        "tf.keras.layers.Dense(3, activation='softmax') # menggunakan 3 neuron di akhir dengan fungsi aktivasi softmax sebagai probabilitas\n",
        "])\n",
        "model.summary()\n",
        "\n",
        "model.compile(optimizer=RMSprop(lr=0.001), loss='categorical_crossentropy', metrics=['acc'])"
      ],
      "execution_count": 13,
      "outputs": [
        {
          "output_type": "stream",
          "text": [
            "Model: \"sequential\"\n",
            "_________________________________________________________________\n",
            "Layer (type)                 Output Shape              Param #   \n",
            "=================================================================\n",
            "conv2d (Conv2D)              (None, 148, 148, 16)      448       \n",
            "_________________________________________________________________\n",
            "max_pooling2d (MaxPooling2D) (None, 74, 74, 16)        0         \n",
            "_________________________________________________________________\n",
            "conv2d_1 (Conv2D)            (None, 72, 72, 32)        4640      \n",
            "_________________________________________________________________\n",
            "max_pooling2d_1 (MaxPooling2 (None, 36, 36, 32)        0         \n",
            "_________________________________________________________________\n",
            "conv2d_2 (Conv2D)            (None, 34, 34, 64)        18496     \n",
            "_________________________________________________________________\n",
            "max_pooling2d_2 (MaxPooling2 (None, 17, 17, 64)        0         \n",
            "_________________________________________________________________\n",
            "conv2d_3 (Conv2D)            (None, 15, 15, 128)       73856     \n",
            "_________________________________________________________________\n",
            "max_pooling2d_3 (MaxPooling2 (None, 7, 7, 128)         0         \n",
            "_________________________________________________________________\n",
            "flatten (Flatten)            (None, 6272)              0         \n",
            "_________________________________________________________________\n",
            "dense (Dense)                (None, 512)               3211776   \n",
            "_________________________________________________________________\n",
            "dense_1 (Dense)              (None, 3)                 1539      \n",
            "=================================================================\n",
            "Total params: 3,310,755\n",
            "Trainable params: 3,310,755\n",
            "Non-trainable params: 0\n",
            "_________________________________________________________________\n"
          ],
          "name": "stdout"
        }
      ]
    },
    {
      "cell_type": "markdown",
      "metadata": {
        "id": "DC-DGAFtx06I",
        "colab_type": "text"
      },
      "source": [
        "Kita menggunakan optimizer berupa RMSprop dan loss categorical_crossentropy."
      ]
    },
    {
      "cell_type": "markdown",
      "metadata": {
        "id": "SEYsUf-JyYQC",
        "colab_type": "text"
      },
      "source": [
        "##Proses Training"
      ]
    },
    {
      "cell_type": "code",
      "metadata": {
        "id": "9ekQSfMAxnqX",
        "colab_type": "code",
        "colab": {
          "base_uri": "https://localhost:8080/",
          "height": 884
        },
        "outputId": "f4917def-e20b-48e3-8115-2f1eb2e626dc"
      },
      "source": [
        "model.fit(\n",
        "      train_generator,\n",
        "      steps_per_epoch=20, \n",
        "      epochs=25,\n",
        "      validation_data=validation_generator, \n",
        "      validation_steps=5,  \n",
        "      verbose=1)"
      ],
      "execution_count": 14,
      "outputs": [
        {
          "output_type": "stream",
          "text": [
            "Epoch 1/25\n",
            "20/20 [==============================] - 12s 614ms/step - loss: 1.4496 - acc: 0.3575 - val_loss: 1.1081 - val_acc: 0.2800\n",
            "Epoch 2/25\n",
            "20/20 [==============================] - 12s 606ms/step - loss: 1.1109 - acc: 0.3775 - val_loss: 1.0922 - val_acc: 0.3100\n",
            "Epoch 3/25\n",
            "20/20 [==============================] - 12s 614ms/step - loss: 1.1537 - acc: 0.3625 - val_loss: 1.0889 - val_acc: 0.3600\n",
            "Epoch 4/25\n",
            "20/20 [==============================] - 12s 623ms/step - loss: 1.0641 - acc: 0.4450 - val_loss: 1.0726 - val_acc: 0.4330\n",
            "Epoch 5/25\n",
            "20/20 [==============================] - 12s 595ms/step - loss: 1.0321 - acc: 0.5499 - val_loss: 0.8510 - val_acc: 0.6900\n",
            "Epoch 6/25\n",
            "20/20 [==============================] - 12s 604ms/step - loss: 0.9585 - acc: 0.5775 - val_loss: 0.8107 - val_acc: 0.7500\n",
            "Epoch 7/25\n",
            "20/20 [==============================] - 12s 604ms/step - loss: 0.7617 - acc: 0.6850 - val_loss: 0.5760 - val_acc: 0.7500\n",
            "Epoch 8/25\n",
            "20/20 [==============================] - 12s 619ms/step - loss: 0.7235 - acc: 0.6925 - val_loss: 0.6123 - val_acc: 0.7320\n",
            "Epoch 9/25\n",
            "20/20 [==============================] - 12s 592ms/step - loss: 0.7460 - acc: 0.7570 - val_loss: 0.4240 - val_acc: 0.8800\n",
            "Epoch 10/25\n",
            "20/20 [==============================] - 12s 606ms/step - loss: 0.4968 - acc: 0.8275 - val_loss: 0.9639 - val_acc: 0.5300\n",
            "Epoch 11/25\n",
            "20/20 [==============================] - 12s 602ms/step - loss: 0.4324 - acc: 0.8250 - val_loss: 0.2577 - val_acc: 0.9200\n",
            "Epoch 12/25\n",
            "20/20 [==============================] - 12s 605ms/step - loss: 0.4113 - acc: 0.8400 - val_loss: 0.6348 - val_acc: 0.6900\n",
            "Epoch 13/25\n",
            "20/20 [==============================] - 12s 606ms/step - loss: 0.3524 - acc: 0.8750 - val_loss: 0.5680 - val_acc: 0.7900\n",
            "Epoch 14/25\n",
            "20/20 [==============================] - 12s 596ms/step - loss: 0.3923 - acc: 0.8619 - val_loss: 0.2432 - val_acc: 0.9000\n",
            "Epoch 15/25\n",
            "20/20 [==============================] - 12s 602ms/step - loss: 0.3817 - acc: 0.8700 - val_loss: 0.2655 - val_acc: 0.8866\n",
            "Epoch 16/25\n",
            "20/20 [==============================] - 12s 614ms/step - loss: 0.2792 - acc: 0.9150 - val_loss: 0.7804 - val_acc: 0.7100\n",
            "Epoch 17/25\n",
            "20/20 [==============================] - 12s 609ms/step - loss: 0.2224 - acc: 0.9375 - val_loss: 0.3556 - val_acc: 0.8800\n",
            "Epoch 18/25\n",
            "20/20 [==============================] - 12s 600ms/step - loss: 0.2917 - acc: 0.8977 - val_loss: 0.1840 - val_acc: 0.9400\n",
            "Epoch 19/25\n",
            "20/20 [==============================] - 12s 603ms/step - loss: 0.2279 - acc: 0.9400 - val_loss: 0.3936 - val_acc: 0.8351\n",
            "Epoch 20/25\n",
            "20/20 [==============================] - 12s 612ms/step - loss: 0.3415 - acc: 0.8850 - val_loss: 0.1569 - val_acc: 0.9700\n",
            "Epoch 21/25\n",
            "20/20 [==============================] - 12s 614ms/step - loss: 0.1603 - acc: 0.9550 - val_loss: 0.2969 - val_acc: 0.9300\n",
            "Epoch 22/25\n",
            "20/20 [==============================] - 12s 601ms/step - loss: 0.2483 - acc: 0.9028 - val_loss: 0.2026 - val_acc: 0.9000\n",
            "Epoch 23/25\n",
            "20/20 [==============================] - 12s 610ms/step - loss: 0.1874 - acc: 0.9325 - val_loss: 0.0952 - val_acc: 0.9700\n",
            "Epoch 24/25\n",
            "20/20 [==============================] - 12s 605ms/step - loss: 0.1602 - acc: 0.9500 - val_loss: 0.2174 - val_acc: 0.9300\n",
            "Epoch 25/25\n",
            "20/20 [==============================] - 12s 607ms/step - loss: 0.2005 - acc: 0.9550 - val_loss: 0.1876 - val_acc: 0.9400\n"
          ],
          "name": "stdout"
        },
        {
          "output_type": "execute_result",
          "data": {
            "text/plain": [
              "<tensorflow.python.keras.callbacks.History at 0x7efd12d49da0>"
            ]
          },
          "metadata": {
            "tags": []
          },
          "execution_count": 14
        }
      ]
    },
    {
      "cell_type": "markdown",
      "metadata": {
        "id": "KDWf_VsJLg1m",
        "colab_type": "text"
      },
      "source": [
        "Setiap kali proses training dilakukan akan menghasilkan nilai akurasi yang sedikit berbeda, didapatkan berkisar diantara 90%."
      ]
    },
    {
      "cell_type": "code",
      "metadata": {
        "id": "zrCM1TMVycdy",
        "colab_type": "code",
        "colab": {
          "resources": {
            "http://localhost:8080/nbextensions/google.colab/files.js": {
              "data": "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",
              "ok": true,
              "headers": [
                [
                  "content-type",
                  "application/javascript"
                ]
              ],
              "status": 200,
              "status_text": ""
            }
          },
          "base_uri": "https://localhost:8080/",
          "height": 343
        },
        "outputId": "20715dfc-9674-4077-a25e-8e50bfa40a97"
      },
      "source": [
        "%matplotlib inline\n",
        " \n",
        "uploaded = files.upload()\n",
        " \n",
        "for fn in uploaded.keys():\n",
        " \n",
        "  # predicting images\n",
        "  path = fn\n",
        "  img = image.load_img(path, target_size=(150,150))\n",
        "  imgplot = plt.imshow(img)\n",
        "  x = image.img_to_array(img)\n",
        "  x = np.expand_dims(x, axis=0)\n",
        " \n",
        "  images = np.vstack([x])\n",
        "  classes = model.predict(images, batch_size=10)\n",
        "  classes = classes.tolist()\n",
        "  \n",
        "if classes[0][0] == 1:\n",
        "  print('kertas')\n",
        "elif classes[0][2] == 1:\n",
        "  print('gunting')\n",
        "else:\n",
        "  print('batu')"
      ],
      "execution_count": 18,
      "outputs": [
        {
          "output_type": "display_data",
          "data": {
            "text/html": [
              "\n",
              "     <input type=\"file\" id=\"files-a27570ae-47ab-44e9-bcdf-5a698929b13c\" name=\"files[]\" multiple disabled />\n",
              "     <output id=\"result-a27570ae-47ab-44e9-bcdf-5a698929b13c\">\n",
              "      Upload widget is only available when the cell has been executed in the\n",
              "      current browser session. Please rerun this cell to enable.\n",
              "      </output>\n",
              "      <script src=\"/nbextensions/google.colab/files.js\"></script> "
            ],
            "text/plain": [
              "<IPython.core.display.HTML object>"
            ]
          },
          "metadata": {
            "tags": []
          }
        },
        {
          "output_type": "stream",
          "text": [
            "Saving 2EAkMCm7ZLnNoBQ7.png to 2EAkMCm7ZLnNoBQ7 (2).png\n",
            "batu\n"
          ],
          "name": "stdout"
        },
        {
          "output_type": "display_data",
          "data": {
            "image/png": "[encoded data removed]",
            "text/plain": [
              "<Figure size 432x288 with 1 Axes>"
            ]
          },
          "metadata": {
            "tags": [],
            "needs_background": "light"
          }
        }
      ]
    },
    {
      "cell_type": "code",
      "metadata": {
        "id": "lPBIcWcp6dBX",
        "colab_type": "code",
        "colab": {}
      },
      "source": [
        "# !rm -rf '/tmp/rockpaperscissors'\n",
        "#uncomment sebelum restart runtime"
      ],
      "execution_count": 0,
      "outputs": []
    }
  ]
}